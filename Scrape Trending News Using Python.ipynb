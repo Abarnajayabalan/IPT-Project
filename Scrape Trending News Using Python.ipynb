{
 "cells": [
  {
   "cell_type": "markdown",
   "id": "2b59272a",
   "metadata": {},
   "source": [
    "# Scrape Trending News Using Python"
   ]
  },
  {
   "cell_type": "markdown",
   "id": "04e93af9",
   "metadata": {},
   "source": [
    "## Install Libraries"
   ]
  },
  {
   "cell_type": "code",
   "execution_count": 1,
   "id": "9c065240",
   "metadata": {},
   "outputs": [
    {
     "name": "stdout",
     "output_type": "stream",
     "text": [
      "Requirement already satisfied: googlenews in c:\\users\\raja\\documents\\abar\\lib\\site-packages (1.6.5)Note: you may need to restart the kernel to use updated packages.\n",
      "Requirement already satisfied: python-dateutil in c:\\users\\raja\\documents\\abar\\lib\\site-packages (from googlenews) (2.8.2)\n",
      "Requirement already satisfied: dateparser in c:\\users\\raja\\documents\\abar\\lib\\site-packages (from googlenews) (1.1.1)\n",
      "Requirement already satisfied: beautifulsoup4 in c:\\users\\raja\\documents\\abar\\lib\\site-packages (from googlenews) (4.11.1)\n",
      "Requirement already satisfied: soupsieve>1.2 in c:\\users\\raja\\documents\\abar\\lib\\site-packages (from beautifulsoup4->googlenews) (2.3.1)\n",
      "Requirement already satisfied: regex!=2019.02.19,!=2021.8.27,<2022.3.15 in c:\\users\\raja\\documents\\abar\\lib\\site-packages (from dateparser->googlenews) (2022.3.2)\n",
      "Requirement already satisfied: pytz in c:\\users\\raja\\documents\\abar\\lib\\site-packages (from dateparser->googlenews) (2021.3)\n",
      "Requirement already satisfied: tzlocal in c:\\users\\raja\\documents\\abar\\lib\\site-packages (from dateparser->googlenews) (4.2)\n",
      "Requirement already satisfied: six>=1.5 in c:\\users\\raja\\documents\\abar\\lib\\site-packages (from python-dateutil->googlenews) (1.16.0)\n",
      "Requirement already satisfied: pytz-deprecation-shim in c:\\users\\raja\\documents\\abar\\lib\\site-packages (from tzlocal->dateparser->googlenews) (0.1.0.post0)\n",
      "Requirement already satisfied: tzdata in c:\\users\\raja\\documents\\abar\\lib\\site-packages (from tzlocal->dateparser->googlenews) (2022.2)\n",
      "\n"
     ]
    }
   ],
   "source": [
    "pip install googlenews"
   ]
  },
  {
   "cell_type": "markdown",
   "id": "9276d435",
   "metadata": {},
   "source": [
    "## Importing Libraries"
   ]
  },
  {
   "cell_type": "code",
   "execution_count": 2,
   "id": "17948ad6",
   "metadata": {},
   "outputs": [],
   "source": [
    "from GoogleNews import GoogleNews\n"
   ]
  },
  {
   "cell_type": "code",
   "execution_count": 3,
   "id": "e074444b",
   "metadata": {},
   "outputs": [],
   "source": [
    "import pandas as pd"
   ]
  },
  {
   "cell_type": "markdown",
   "id": "5f142dbe",
   "metadata": {},
   "source": [
    "## Scrape The Latest Trending News About India"
   ]
  },
  {
   "cell_type": "code",
   "execution_count": 4,
   "id": "b4dea992",
   "metadata": {},
   "outputs": [],
   "source": [
    "news = GoogleNews(period='1d')"
   ]
  },
  {
   "cell_type": "code",
   "execution_count": 5,
   "id": "6def9c76",
   "metadata": {},
   "outputs": [],
   "source": [
    "news.search(\"India\")"
   ]
  },
  {
   "cell_type": "code",
   "execution_count": 6,
   "id": "e1c387a8",
   "metadata": {},
   "outputs": [],
   "source": [
    "result = news.result()"
   ]
  },
  {
   "cell_type": "markdown",
   "id": "67e14aa5",
   "metadata": {},
   "source": [
    "## Importing Data"
   ]
  },
  {
   "cell_type": "code",
   "execution_count": 7,
   "id": "3524ded0",
   "metadata": {},
   "outputs": [],
   "source": [
    "data = pd.DataFrame.from_dict(result)"
   ]
  },
  {
   "cell_type": "code",
   "execution_count": 8,
   "id": "6f8a21fd",
   "metadata": {},
   "outputs": [
    {
     "data": {
      "text/html": [
       "<div>\n",
       "<style scoped>\n",
       "    .dataframe tbody tr th:only-of-type {\n",
       "        vertical-align: middle;\n",
       "    }\n",
       "\n",
       "    .dataframe tbody tr th {\n",
       "        vertical-align: top;\n",
       "    }\n",
       "\n",
       "    .dataframe thead th {\n",
       "        text-align: right;\n",
       "    }\n",
       "</style>\n",
       "<table border=\"1\" class=\"dataframe\">\n",
       "  <thead>\n",
       "    <tr style=\"text-align: right;\">\n",
       "      <th></th>\n",
       "      <th>title</th>\n",
       "      <th>media</th>\n",
       "      <th>date</th>\n",
       "      <th>datetime</th>\n",
       "      <th>desc</th>\n",
       "      <th>link</th>\n",
       "      <th>img</th>\n",
       "    </tr>\n",
       "  </thead>\n",
       "  <tbody>\n",
       "    <tr>\n",
       "      <th>0</th>\n",
       "      <td>'I want more from him. I want to see his pace ...</td>\n",
       "      <td>Hindustan Times</td>\n",
       "      <td>1 hour ago</td>\n",
       "      <td>2022-09-11 18:58:10.681406</td>\n",
       "      <td>The former Australia fast bowler gave his verd...</td>\n",
       "      <td>https://www.hindustantimes.com/cricket/i-want-...</td>\n",
       "      <td>data:image/gif;base64,R0lGODlhAQABAIAAAP//////...</td>\n",
       "    </tr>\n",
       "    <tr>\n",
       "      <th>1</th>\n",
       "      <td>Will float national party soon: KCR</td>\n",
       "      <td>Times of India</td>\n",
       "      <td>1 hour ago</td>\n",
       "      <td>2022-09-11 18:58:10.712659</td>\n",
       "      <td>India News: Telangana Rashtra Samithi chief mi...</td>\n",
       "      <td>https://timesofindia.indiatimes.com/india/will...</td>\n",
       "      <td>data:image/gif;base64,R0lGODlhAQABAIAAAP//////...</td>\n",
       "    </tr>\n",
       "    <tr>\n",
       "      <th>2</th>\n",
       "      <td>Atmanirbhar Bharat: Indian weapons set to rule...</td>\n",
       "      <td>The Financial Express</td>\n",
       "      <td>1 hour ago</td>\n",
       "      <td>2022-09-11 18:58:10.743907</td>\n",
       "      <td>Defence production for the Indian Armed Forces...</td>\n",
       "      <td>https://www.financialexpress.com/defence/atman...</td>\n",
       "      <td>data:image/gif;base64,R0lGODlhAQABAIAAAP//////...</td>\n",
       "    </tr>\n",
       "    <tr>\n",
       "      <th>3</th>\n",
       "      <td>JEE Advanced Result 2022: All-India topper RK ...</td>\n",
       "      <td>The Indian Express</td>\n",
       "      <td>1 hour ago</td>\n",
       "      <td>2022-09-11 18:58:10.759531</td>\n",
       "      <td>In July, Shishir, a student of Narayana eTechn...</td>\n",
       "      <td>https://indianexpress.com/article/education/ii...</td>\n",
       "      <td>data:image/gif;base64,R0lGODlhAQABAIAAAP//////...</td>\n",
       "    </tr>\n",
       "    <tr>\n",
       "      <th>4</th>\n",
       "      <td>T20 World Cup 2022: Harshal Patel Not Named In...</td>\n",
       "      <td>Cricket Addictor</td>\n",
       "      <td>2 hours ago</td>\n",
       "      <td>2022-09-11 17:58:10.790786</td>\n",
       "      <td>Former India National Cricket Team pace bowler...</td>\n",
       "      <td>https://cricketaddictor.com/icc-t20-world-cup-...</td>\n",
       "      <td>data:image/gif;base64,R0lGODlhAQABAIAAAP//////...</td>\n",
       "    </tr>\n",
       "    <tr>\n",
       "      <th>5</th>\n",
       "      <td>India’s first modified Mahindra Thar with 38 i...</td>\n",
       "      <td>Cartoq</td>\n",
       "      <td>2 hours ago</td>\n",
       "      <td>2022-09-11 17:58:10.822041</td>\n",
       "      <td>Mahindra Thar has been a popular choice among ...</td>\n",
       "      <td>https://www.cartoq.com/indias-first-modified-m...</td>\n",
       "      <td>data:image/gif;base64,R0lGODlhAQABAIAAAP//////...</td>\n",
       "    </tr>\n",
       "    <tr>\n",
       "      <th>6</th>\n",
       "      <td>Modi raps BJP's Kerala unit for failing to del...</td>\n",
       "      <td>Onmanorama</td>\n",
       "      <td>2 hours ago</td>\n",
       "      <td>2022-09-11 17:58:10.837667</td>\n",
       "      <td>New Delhi: Prime Minister and BJP leader Naren...</td>\n",
       "      <td>https://www.onmanorama.com/news/kerala/2022/09...</td>\n",
       "      <td>data:image/gif;base64,R0lGODlhAQABAIAAAP//////...</td>\n",
       "    </tr>\n",
       "    <tr>\n",
       "      <th>7</th>\n",
       "      <td>Refitting Pakistan F-16s | India raised ‘stron...</td>\n",
       "      <td>The Hindu</td>\n",
       "      <td>2 hours ago</td>\n",
       "      <td>2022-09-11 17:58:10.868919</td>\n",
       "      <td>During meetings with country's Assistant Secre...</td>\n",
       "      <td>https://www.thehindu.com/news/national/india-r...</td>\n",
       "      <td>data:image/gif;base64,R0lGODlhAQABAIAAAP//////...</td>\n",
       "    </tr>\n",
       "    <tr>\n",
       "      <th>8</th>\n",
       "      <td>Taragiri: All you need to know about India's f...</td>\n",
       "      <td>Times of India</td>\n",
       "      <td>2 hours ago</td>\n",
       "      <td>2022-09-11 17:58:10.900168</td>\n",
       "      <td>India News: 'Taragiri', the fifth stealth guid...</td>\n",
       "      <td>https://timesofindia.indiatimes.com/india/tara...</td>\n",
       "      <td>data:image/gif;base64,R0lGODlhAQABAIAAAP//////...</td>\n",
       "    </tr>\n",
       "    <tr>\n",
       "      <th>9</th>\n",
       "      <td>India cricketer Veda Krishnamurthy gets engage...</td>\n",
       "      <td>CricTracker</td>\n",
       "      <td>3 hours ago</td>\n",
       "      <td>2022-09-11 16:58:10.915799</td>\n",
       "      <td>India Women's cricketer Veda Krishnamurthy has...</td>\n",
       "      <td>https://www.crictracker.com/cricket-news/india...</td>\n",
       "      <td>data:image/gif;base64,R0lGODlhAQABAIAAAP//////...</td>\n",
       "    </tr>\n",
       "  </tbody>\n",
       "</table>\n",
       "</div>"
      ],
      "text/plain": [
       "                                               title                  media  \\\n",
       "0  'I want more from him. I want to see his pace ...        Hindustan Times   \n",
       "1                Will float national party soon: KCR         Times of India   \n",
       "2  Atmanirbhar Bharat: Indian weapons set to rule...  The Financial Express   \n",
       "3  JEE Advanced Result 2022: All-India topper RK ...     The Indian Express   \n",
       "4  T20 World Cup 2022: Harshal Patel Not Named In...       Cricket Addictor   \n",
       "5  India’s first modified Mahindra Thar with 38 i...                 Cartoq   \n",
       "6  Modi raps BJP's Kerala unit for failing to del...             Onmanorama   \n",
       "7  Refitting Pakistan F-16s | India raised ‘stron...              The Hindu   \n",
       "8  Taragiri: All you need to know about India's f...         Times of India   \n",
       "9  India cricketer Veda Krishnamurthy gets engage...            CricTracker   \n",
       "\n",
       "          date                   datetime  \\\n",
       "0   1 hour ago 2022-09-11 18:58:10.681406   \n",
       "1   1 hour ago 2022-09-11 18:58:10.712659   \n",
       "2   1 hour ago 2022-09-11 18:58:10.743907   \n",
       "3   1 hour ago 2022-09-11 18:58:10.759531   \n",
       "4  2 hours ago 2022-09-11 17:58:10.790786   \n",
       "5  2 hours ago 2022-09-11 17:58:10.822041   \n",
       "6  2 hours ago 2022-09-11 17:58:10.837667   \n",
       "7  2 hours ago 2022-09-11 17:58:10.868919   \n",
       "8  2 hours ago 2022-09-11 17:58:10.900168   \n",
       "9  3 hours ago 2022-09-11 16:58:10.915799   \n",
       "\n",
       "                                                desc  \\\n",
       "0  The former Australia fast bowler gave his verd...   \n",
       "1  India News: Telangana Rashtra Samithi chief mi...   \n",
       "2  Defence production for the Indian Armed Forces...   \n",
       "3  In July, Shishir, a student of Narayana eTechn...   \n",
       "4  Former India National Cricket Team pace bowler...   \n",
       "5  Mahindra Thar has been a popular choice among ...   \n",
       "6  New Delhi: Prime Minister and BJP leader Naren...   \n",
       "7  During meetings with country's Assistant Secre...   \n",
       "8  India News: 'Taragiri', the fifth stealth guid...   \n",
       "9  India Women's cricketer Veda Krishnamurthy has...   \n",
       "\n",
       "                                                link  \\\n",
       "0  https://www.hindustantimes.com/cricket/i-want-...   \n",
       "1  https://timesofindia.indiatimes.com/india/will...   \n",
       "2  https://www.financialexpress.com/defence/atman...   \n",
       "3  https://indianexpress.com/article/education/ii...   \n",
       "4  https://cricketaddictor.com/icc-t20-world-cup-...   \n",
       "5  https://www.cartoq.com/indias-first-modified-m...   \n",
       "6  https://www.onmanorama.com/news/kerala/2022/09...   \n",
       "7  https://www.thehindu.com/news/national/india-r...   \n",
       "8  https://timesofindia.indiatimes.com/india/tara...   \n",
       "9  https://www.crictracker.com/cricket-news/india...   \n",
       "\n",
       "                                                 img  \n",
       "0  data:image/gif;base64,R0lGODlhAQABAIAAAP//////...  \n",
       "1  data:image/gif;base64,R0lGODlhAQABAIAAAP//////...  \n",
       "2  data:image/gif;base64,R0lGODlhAQABAIAAAP//////...  \n",
       "3  data:image/gif;base64,R0lGODlhAQABAIAAAP//////...  \n",
       "4  data:image/gif;base64,R0lGODlhAQABAIAAAP//////...  \n",
       "5  data:image/gif;base64,R0lGODlhAQABAIAAAP//////...  \n",
       "6  data:image/gif;base64,R0lGODlhAQABAIAAAP//////...  \n",
       "7  data:image/gif;base64,R0lGODlhAQABAIAAAP//////...  \n",
       "8  data:image/gif;base64,R0lGODlhAQABAIAAAP//////...  \n",
       "9  data:image/gif;base64,R0lGODlhAQABAIAAAP//////...  "
      ]
     },
     "execution_count": 8,
     "metadata": {},
     "output_type": "execute_result"
    }
   ],
   "source": [
    "data"
   ]
  },
  {
   "cell_type": "markdown",
   "id": "f0dec146",
   "metadata": {},
   "source": [
    "## Slicing The Data"
   ]
  },
  {
   "cell_type": "markdown",
   "id": "c5a2cfeb",
   "metadata": {},
   "source": [
    "## Drop The Column \"Img\""
   ]
  },
  {
   "cell_type": "code",
   "execution_count": 9,
   "id": "611cc46a",
   "metadata": {},
   "outputs": [],
   "source": [
    "data=data.drop(columns=[\"img\"])"
   ]
  },
  {
   "cell_type": "code",
   "execution_count": 10,
   "id": "ab6264d2",
   "metadata": {},
   "outputs": [
    {
     "data": {
      "text/html": [
       "<div>\n",
       "<style scoped>\n",
       "    .dataframe tbody tr th:only-of-type {\n",
       "        vertical-align: middle;\n",
       "    }\n",
       "\n",
       "    .dataframe tbody tr th {\n",
       "        vertical-align: top;\n",
       "    }\n",
       "\n",
       "    .dataframe thead th {\n",
       "        text-align: right;\n",
       "    }\n",
       "</style>\n",
       "<table border=\"1\" class=\"dataframe\">\n",
       "  <thead>\n",
       "    <tr style=\"text-align: right;\">\n",
       "      <th></th>\n",
       "      <th>title</th>\n",
       "      <th>media</th>\n",
       "      <th>date</th>\n",
       "      <th>datetime</th>\n",
       "      <th>desc</th>\n",
       "      <th>link</th>\n",
       "    </tr>\n",
       "  </thead>\n",
       "  <tbody>\n",
       "    <tr>\n",
       "      <th>0</th>\n",
       "      <td>'I want more from him. I want to see his pace ...</td>\n",
       "      <td>Hindustan Times</td>\n",
       "      <td>1 hour ago</td>\n",
       "      <td>2022-09-11 18:58:10.681406</td>\n",
       "      <td>The former Australia fast bowler gave his verd...</td>\n",
       "      <td>https://www.hindustantimes.com/cricket/i-want-...</td>\n",
       "    </tr>\n",
       "    <tr>\n",
       "      <th>1</th>\n",
       "      <td>Will float national party soon: KCR</td>\n",
       "      <td>Times of India</td>\n",
       "      <td>1 hour ago</td>\n",
       "      <td>2022-09-11 18:58:10.712659</td>\n",
       "      <td>India News: Telangana Rashtra Samithi chief mi...</td>\n",
       "      <td>https://timesofindia.indiatimes.com/india/will...</td>\n",
       "    </tr>\n",
       "    <tr>\n",
       "      <th>2</th>\n",
       "      <td>Atmanirbhar Bharat: Indian weapons set to rule...</td>\n",
       "      <td>The Financial Express</td>\n",
       "      <td>1 hour ago</td>\n",
       "      <td>2022-09-11 18:58:10.743907</td>\n",
       "      <td>Defence production for the Indian Armed Forces...</td>\n",
       "      <td>https://www.financialexpress.com/defence/atman...</td>\n",
       "    </tr>\n",
       "    <tr>\n",
       "      <th>3</th>\n",
       "      <td>JEE Advanced Result 2022: All-India topper RK ...</td>\n",
       "      <td>The Indian Express</td>\n",
       "      <td>1 hour ago</td>\n",
       "      <td>2022-09-11 18:58:10.759531</td>\n",
       "      <td>In July, Shishir, a student of Narayana eTechn...</td>\n",
       "      <td>https://indianexpress.com/article/education/ii...</td>\n",
       "    </tr>\n",
       "    <tr>\n",
       "      <th>4</th>\n",
       "      <td>T20 World Cup 2022: Harshal Patel Not Named In...</td>\n",
       "      <td>Cricket Addictor</td>\n",
       "      <td>2 hours ago</td>\n",
       "      <td>2022-09-11 17:58:10.790786</td>\n",
       "      <td>Former India National Cricket Team pace bowler...</td>\n",
       "      <td>https://cricketaddictor.com/icc-t20-world-cup-...</td>\n",
       "    </tr>\n",
       "    <tr>\n",
       "      <th>5</th>\n",
       "      <td>India’s first modified Mahindra Thar with 38 i...</td>\n",
       "      <td>Cartoq</td>\n",
       "      <td>2 hours ago</td>\n",
       "      <td>2022-09-11 17:58:10.822041</td>\n",
       "      <td>Mahindra Thar has been a popular choice among ...</td>\n",
       "      <td>https://www.cartoq.com/indias-first-modified-m...</td>\n",
       "    </tr>\n",
       "    <tr>\n",
       "      <th>6</th>\n",
       "      <td>Modi raps BJP's Kerala unit for failing to del...</td>\n",
       "      <td>Onmanorama</td>\n",
       "      <td>2 hours ago</td>\n",
       "      <td>2022-09-11 17:58:10.837667</td>\n",
       "      <td>New Delhi: Prime Minister and BJP leader Naren...</td>\n",
       "      <td>https://www.onmanorama.com/news/kerala/2022/09...</td>\n",
       "    </tr>\n",
       "    <tr>\n",
       "      <th>7</th>\n",
       "      <td>Refitting Pakistan F-16s | India raised ‘stron...</td>\n",
       "      <td>The Hindu</td>\n",
       "      <td>2 hours ago</td>\n",
       "      <td>2022-09-11 17:58:10.868919</td>\n",
       "      <td>During meetings with country's Assistant Secre...</td>\n",
       "      <td>https://www.thehindu.com/news/national/india-r...</td>\n",
       "    </tr>\n",
       "    <tr>\n",
       "      <th>8</th>\n",
       "      <td>Taragiri: All you need to know about India's f...</td>\n",
       "      <td>Times of India</td>\n",
       "      <td>2 hours ago</td>\n",
       "      <td>2022-09-11 17:58:10.900168</td>\n",
       "      <td>India News: 'Taragiri', the fifth stealth guid...</td>\n",
       "      <td>https://timesofindia.indiatimes.com/india/tara...</td>\n",
       "    </tr>\n",
       "    <tr>\n",
       "      <th>9</th>\n",
       "      <td>India cricketer Veda Krishnamurthy gets engage...</td>\n",
       "      <td>CricTracker</td>\n",
       "      <td>3 hours ago</td>\n",
       "      <td>2022-09-11 16:58:10.915799</td>\n",
       "      <td>India Women's cricketer Veda Krishnamurthy has...</td>\n",
       "      <td>https://www.crictracker.com/cricket-news/india...</td>\n",
       "    </tr>\n",
       "  </tbody>\n",
       "</table>\n",
       "</div>"
      ],
      "text/plain": [
       "                                               title                  media  \\\n",
       "0  'I want more from him. I want to see his pace ...        Hindustan Times   \n",
       "1                Will float national party soon: KCR         Times of India   \n",
       "2  Atmanirbhar Bharat: Indian weapons set to rule...  The Financial Express   \n",
       "3  JEE Advanced Result 2022: All-India topper RK ...     The Indian Express   \n",
       "4  T20 World Cup 2022: Harshal Patel Not Named In...       Cricket Addictor   \n",
       "5  India’s first modified Mahindra Thar with 38 i...                 Cartoq   \n",
       "6  Modi raps BJP's Kerala unit for failing to del...             Onmanorama   \n",
       "7  Refitting Pakistan F-16s | India raised ‘stron...              The Hindu   \n",
       "8  Taragiri: All you need to know about India's f...         Times of India   \n",
       "9  India cricketer Veda Krishnamurthy gets engage...            CricTracker   \n",
       "\n",
       "          date                   datetime  \\\n",
       "0   1 hour ago 2022-09-11 18:58:10.681406   \n",
       "1   1 hour ago 2022-09-11 18:58:10.712659   \n",
       "2   1 hour ago 2022-09-11 18:58:10.743907   \n",
       "3   1 hour ago 2022-09-11 18:58:10.759531   \n",
       "4  2 hours ago 2022-09-11 17:58:10.790786   \n",
       "5  2 hours ago 2022-09-11 17:58:10.822041   \n",
       "6  2 hours ago 2022-09-11 17:58:10.837667   \n",
       "7  2 hours ago 2022-09-11 17:58:10.868919   \n",
       "8  2 hours ago 2022-09-11 17:58:10.900168   \n",
       "9  3 hours ago 2022-09-11 16:58:10.915799   \n",
       "\n",
       "                                                desc  \\\n",
       "0  The former Australia fast bowler gave his verd...   \n",
       "1  India News: Telangana Rashtra Samithi chief mi...   \n",
       "2  Defence production for the Indian Armed Forces...   \n",
       "3  In July, Shishir, a student of Narayana eTechn...   \n",
       "4  Former India National Cricket Team pace bowler...   \n",
       "5  Mahindra Thar has been a popular choice among ...   \n",
       "6  New Delhi: Prime Minister and BJP leader Naren...   \n",
       "7  During meetings with country's Assistant Secre...   \n",
       "8  India News: 'Taragiri', the fifth stealth guid...   \n",
       "9  India Women's cricketer Veda Krishnamurthy has...   \n",
       "\n",
       "                                                link  \n",
       "0  https://www.hindustantimes.com/cricket/i-want-...  \n",
       "1  https://timesofindia.indiatimes.com/india/will...  \n",
       "2  https://www.financialexpress.com/defence/atman...  \n",
       "3  https://indianexpress.com/article/education/ii...  \n",
       "4  https://cricketaddictor.com/icc-t20-world-cup-...  \n",
       "5  https://www.cartoq.com/indias-first-modified-m...  \n",
       "6  https://www.onmanorama.com/news/kerala/2022/09...  \n",
       "7  https://www.thehindu.com/news/national/india-r...  \n",
       "8  https://timesofindia.indiatimes.com/india/tara...  \n",
       "9  https://www.crictracker.com/cricket-news/india...  "
      ]
     },
     "execution_count": 10,
     "metadata": {},
     "output_type": "execute_result"
    }
   ],
   "source": [
    "data"
   ]
  },
  {
   "cell_type": "markdown",
   "id": "41861350",
   "metadata": {},
   "source": [
    "## Data Shape"
   ]
  },
  {
   "cell_type": "code",
   "execution_count": 11,
   "id": "d2c1e1c5",
   "metadata": {},
   "outputs": [
    {
     "data": {
      "text/plain": [
       "(10, 6)"
      ]
     },
     "execution_count": 11,
     "metadata": {},
     "output_type": "execute_result"
    }
   ],
   "source": [
    "data.shape"
   ]
  },
  {
   "cell_type": "markdown",
   "id": "cbe2c3d2",
   "metadata": {},
   "source": [
    "## Complete Link Of The News Article"
   ]
  },
  {
   "cell_type": "markdown",
   "id": "284a14f7",
   "metadata": {},
   "source": [
    "### Using For Loop"
   ]
  },
  {
   "cell_type": "code",
   "execution_count": 12,
   "id": "01793334",
   "metadata": {},
   "outputs": [
    {
     "name": "stdout",
     "output_type": "stream",
     "text": [
      "Title :  'I want more from him. I want to see his pace over 140': Brett Lee on India star\n",
      "News :  The former Australia fast bowler gave his verdict on the India star, \n",
      "insisting that he would like to see “more” from him in the upcoming T20 \n",
      "World Cup.\n",
      "Read Full News :  https://www.hindustantimes.com/cricket/i-want-more-from-bhuvneshwar-kumar-i-want-to-see-his-pace-over-140-brett-lee-makes-huge-leader-of-wolf-pack-claim-on-india-star-101662899547607.html\n",
      "Title :  Will float national party soon: KCR\n",
      "News :  India News: Telangana Rashtra Samithi chief minister K Chandrashekar Rao on \n",
      "Sunday confirmed that he would soon launch a national party.\n",
      "Read Full News :  https://timesofindia.indiatimes.com/india/will-float-national-party-soon-kcr/articleshow/94134742.cms\n",
      "Title :  Atmanirbhar Bharat: Indian weapons set to rule the roost\n",
      "News :  Defence production for the Indian Armed Forces under the 'Make in India' \n",
      "initiative provides state-of-the-art equipment, which matches the world's \n",
      "best in...\n",
      "Read Full News :  https://www.financialexpress.com/defence/atmanirbhar-bharat-indian-weapons-set-to-rule-the-roost/2662527/\n",
      "Title :  JEE Advanced Result 2022: All-India topper RK Shishir also secured first rank in KCET, AIR 56 in JEE Mains\n",
      "News :  In July, Shishir, a student of Narayana eTechno School Vidyaranyapura, had \n",
      "not only topped Karnataka Common Entrance Test (KCET) 2022 in the pharma \n",
      "category...\n",
      "Read Full News :  https://indianexpress.com/article/education/iit-jee-advanced-2022-result-kcet-pharmacy-topper-rk-shishir-also-secures-air-1-in-iit-entrance-test-8143570/\n",
      "Title :  T20 World Cup 2022: Harshal Patel Not Named In India Squad For ICC Men's T20 World Cup Of RP Singh ...\n",
      "News :  Former India National Cricket Team pace bowler RP Singh has named his \n",
      "15-member squad of the India National Cricket Team for the forthcoming ICC \n",
      "Men's T20...\n",
      "Read Full News :  https://cricketaddictor.com/icc-t20-world-cup-2022/t20-world-cup-2022-harshal-patel-not-named-in-india-squad-for-icc-mens-t20-world-cup-of-rp-singh-mohammed-shami-kuldeep-yadav-included/\n",
      "Title :  India’s first modified Mahindra Thar with 38 inch wheels & 4 inch lift kit (Video)\n",
      "News :  Mahindra Thar has been a popular choice among off-road and SUV enthusiasts \n",
      "in India. Thar is currently one of the most affordable 4×4 SUV in India and \n",
      "the...\n",
      "Read Full News :  https://www.cartoq.com/indias-first-modified-mahindra-thar-with-38-inch-wheels-4-inch-lift-kit/\n",
      "Title :  Modi raps BJP's Kerala unit for failing to deliver | India | Onmanorama\n",
      "News :  New Delhi: Prime Minister and BJP leader Narendra Modi has expressed his \n",
      "displeasure at the sad state of affairs plaguing the party's unit in Kerala.\n",
      "Read Full News :  https://www.onmanorama.com/news/kerala/2022/09/11/narendra-modi-raps-bjp-kerala-unit-for-election-debacles.html\n",
      "Title :  Refitting Pakistan F-16s | India raised ‘strong objections’ with top U.S. official\n",
      "News :  During meetings with country's Assistant Secretary of State Donald Lu in \n",
      "Delhi last week, India raised strong objections over U.S. sale of F-16 \n",
      "spares...\n",
      "Read Full News :  https://www.thehindu.com/news/national/india-raised-strong-objections-over-us-sale-of-f-16-spares-package-to-pakistan-during-meetings-last-week-with-key-official-in-delhi/article65878790.ece\n",
      "Title :  Taragiri: All you need to know about India's fifth stealth frigate\n",
      "News :  India News: 'Taragiri', the fifth stealth guided-missile frigate built \n",
      "under the Indian Navy's Project 17A, was launched in Mumbai on Sunday.\n",
      "Read Full News :  https://timesofindia.indiatimes.com/india/taragiri-all-you-need-to-know-about-indias-fifth-stealth-frigate/articleshow/94132790.cms\n",
      "Title :  India cricketer Veda Krishnamurthy gets engaged to Karnataka Ranji cricketer Arjun Hoysala\n",
      "News :  India Women's cricketer Veda Krishnamurthy has got engaged to Karnataka \n",
      "cricketer Arjun Hoysala and the duo announced their engagement on Instagram \n",
      "in a...\n",
      "Read Full News :  https://www.crictracker.com/cricket-news/india-cricketer-veda-krishnamurthy-gets-engaged-to-karnataka-ranji-cricketer-arjun-hoysala/\n"
     ]
    }
   ],
   "source": [
    "for i in result:\n",
    "    print(\"Title : \", i[\"title\"])\n",
    "    print(\"News : \", i[\"desc\"])\n",
    "    print(\"Read Full News : \", i[\"link\"])"
   ]
  }
 ],
 "metadata": {
  "kernelspec": {
   "display_name": "Python 3 (ipykernel)",
   "language": "python",
   "name": "python3"
  },
  "language_info": {
   "codemirror_mode": {
    "name": "ipython",
    "version": 3
   },
   "file_extension": ".py",
   "mimetype": "text/x-python",
   "name": "python",
   "nbconvert_exporter": "python",
   "pygments_lexer": "ipython3",
   "version": "3.9.12"
  }
 },
 "nbformat": 4,
 "nbformat_minor": 5
}
