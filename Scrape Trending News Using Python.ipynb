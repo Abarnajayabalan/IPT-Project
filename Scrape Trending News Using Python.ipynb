{
 "cells": [
  {
   "cell_type": "markdown",
   "id": "2b59272a",
   "metadata": {},
   "source": [
    "# Scrape Trending News Using Python"
   ]
  },
  {
   "cell_type": "markdown",
   "id": "04e93af9",
   "metadata": {},
   "source": [
    "## Install Libraries"
   ]
  },
  {
   "cell_type": "code",
   "execution_count": 1,
   "id": "9c065240",
   "metadata": {},
   "outputs": [
    {
     "name": "stdout",
     "output_type": "stream",
     "text": [
      "Requirement already satisfied: googlenews in c:\\users\\raja\\documents\\abar\\lib\\site-packages (1.6.5)\n",
      "Requirement already satisfied: beautifulsoup4 in c:\\users\\raja\\documents\\abar\\lib\\site-packages (from googlenews) (4.11.1)\n",
      "Requirement already satisfied: python-dateutil in c:\\users\\raja\\documents\\abar\\lib\\site-packages (from googlenews) (2.8.2)\n",
      "Requirement already satisfied: dateparser in c:\\users\\raja\\documents\\abar\\lib\\site-packages (from googlenews) (1.1.1)\n",
      "Requirement already satisfied: soupsieve>1.2 in c:\\users\\raja\\documents\\abar\\lib\\site-packages (from beautifulsoup4->googlenews) (2.3.1)\n",
      "Requirement already satisfied: pytz in c:\\users\\raja\\documents\\abar\\lib\\site-packages (from dateparser->googlenews) (2021.3)\n",
      "Requirement already satisfied: tzlocal in c:\\users\\raja\\documents\\abar\\lib\\site-packages (from dateparser->googlenews) (4.2)\n",
      "Requirement already satisfied: regex!=2019.02.19,!=2021.8.27,<2022.3.15 in c:\\users\\raja\\documents\\abar\\lib\\site-packages (from dateparser->googlenews) (2022.3.2)\n",
      "Requirement already satisfied: six>=1.5 in c:\\users\\raja\\documents\\abar\\lib\\site-packages (from python-dateutil->googlenews) (1.16.0)\n",
      "Requirement already satisfied: pytz-deprecation-shim in c:\\users\\raja\\documents\\abar\\lib\\site-packages (from tzlocal->dateparser->googlenews) (0.1.0.post0)\n",
      "Requirement already satisfied: tzdata in c:\\users\\raja\\documents\\abar\\lib\\site-packages (from tzlocal->dateparser->googlenews) (2022.2)\n",
      "Note: you may need to restart the kernel to use updated packages.\n"
     ]
    }
   ],
   "source": [
    "pip install googlenews"
   ]
  },
  {
   "cell_type": "markdown",
   "id": "9276d435",
   "metadata": {},
   "source": [
    "## Importing Libraries"
   ]
  },
  {
   "cell_type": "code",
   "execution_count": 2,
   "id": "17948ad6",
   "metadata": {},
   "outputs": [],
   "source": [
    "from GoogleNews import GoogleNews\n"
   ]
  },
  {
   "cell_type": "code",
   "execution_count": 3,
   "id": "e074444b",
   "metadata": {},
   "outputs": [],
   "source": [
    "import pandas as pd"
   ]
  },
  {
   "cell_type": "markdown",
   "id": "5f142dbe",
   "metadata": {},
   "source": [
    "## Scrape The Latest Trending News About India"
   ]
  },
  {
   "cell_type": "code",
   "execution_count": 4,
   "id": "b4dea992",
   "metadata": {},
   "outputs": [],
   "source": [
    "news = GoogleNews(period='1d')"
   ]
  },
  {
   "cell_type": "code",
   "execution_count": 5,
   "id": "6def9c76",
   "metadata": {},
   "outputs": [],
   "source": [
    "news.search(\"India\")"
   ]
  },
  {
   "cell_type": "code",
   "execution_count": 6,
   "id": "e1c387a8",
   "metadata": {},
   "outputs": [],
   "source": [
    "result = news.result()"
   ]
  },
  {
   "cell_type": "markdown",
   "id": "67e14aa5",
   "metadata": {},
   "source": [
    "## Importing Data"
   ]
  },
  {
   "cell_type": "code",
   "execution_count": 14,
   "id": "3524ded0",
   "metadata": {},
   "outputs": [],
   "source": [
    "data = pd.DataFrame.from_dict(result)"
   ]
  },
  {
   "cell_type": "code",
   "execution_count": 15,
   "id": "6f8a21fd",
   "metadata": {},
   "outputs": [
    {
     "data": {
      "text/html": [
       "<div>\n",
       "<style scoped>\n",
       "    .dataframe tbody tr th:only-of-type {\n",
       "        vertical-align: middle;\n",
       "    }\n",
       "\n",
       "    .dataframe tbody tr th {\n",
       "        vertical-align: top;\n",
       "    }\n",
       "\n",
       "    .dataframe thead th {\n",
       "        text-align: right;\n",
       "    }\n",
       "</style>\n",
       "<table border=\"1\" class=\"dataframe\">\n",
       "  <thead>\n",
       "    <tr style=\"text-align: right;\">\n",
       "      <th></th>\n",
       "      <th>title</th>\n",
       "      <th>media</th>\n",
       "      <th>date</th>\n",
       "      <th>datetime</th>\n",
       "      <th>desc</th>\n",
       "      <th>link</th>\n",
       "      <th>img</th>\n",
       "    </tr>\n",
       "  </thead>\n",
       "  <tbody>\n",
       "    <tr>\n",
       "      <th>0</th>\n",
       "      <td>India vs Bangladesh LIVE Score, T20 World Cup ...</td>\n",
       "      <td>Times of India</td>\n",
       "      <td>LIVE6 mins ago</td>\n",
       "      <td>NaT</td>\n",
       "      <td>Bangladesh skipper Shakib Al Hasan won the tos...</td>\n",
       "      <td>https://timesofindia.indiatimes.com/sports/cri...</td>\n",
       "      <td>data:image/gif;base64,R0lGODlhAQABAIAAAP//////...</td>\n",
       "    </tr>\n",
       "    <tr>\n",
       "      <th>1</th>\n",
       "      <td>India vs Bangladesh Live Score, T20 World Cup ...</td>\n",
       "      <td>The Indian Express</td>\n",
       "      <td>LIVE7 mins ago</td>\n",
       "      <td>NaT</td>\n",
       "      <td>India vs Bangladesh Live Cricket Score, T20 WC...</td>\n",
       "      <td>https://indianexpress.com/article/sports/crick...</td>\n",
       "      <td>data:image/gif;base64,R0lGODlhAQABAIAAAP//////...</td>\n",
       "    </tr>\n",
       "    <tr>\n",
       "      <th>2</th>\n",
       "      <td>Coronavirus in India Live Updates: India repor...</td>\n",
       "      <td>Times of India</td>\n",
       "      <td>LIVE11 mins ago</td>\n",
       "      <td>NaT</td>\n",
       "      <td>With 1190 new Covid-19 cases in the last 24 ho...</td>\n",
       "      <td>https://timesofindia.indiatimes.com/india/coro...</td>\n",
       "      <td>data:image/gif;base64,R0lGODlhAQABAIAAAP//////...</td>\n",
       "    </tr>\n",
       "    <tr>\n",
       "      <th>3</th>\n",
       "      <td>Zimbabwe vs Netherlands Live Score, T20 World ...</td>\n",
       "      <td>The Indian Express</td>\n",
       "      <td>LIVE36 mins ago</td>\n",
       "      <td>NaT</td>\n",
       "      <td>Zimbabwe vs Netherlands Live Cricket Score, T2...</td>\n",
       "      <td>https://indianexpress.com/article/sports/crick...</td>\n",
       "      <td>data:image/gif;base64,R0lGODlhAQABAIAAAP//////...</td>\n",
       "    </tr>\n",
       "    <tr>\n",
       "      <th>4</th>\n",
       "      <td>It's bahubali vs bahubali in Mokama bypoll</td>\n",
       "      <td>Times of India</td>\n",
       "      <td>0 mins ago</td>\n",
       "      <td>NaT</td>\n",
       "      <td>India News: The Mokama (Bihar) bypoll on Thurs...</td>\n",
       "      <td>https://timesofindia.indiatimes.com/india/its-...</td>\n",
       "      <td>data:image/gif;base64,R0lGODlhAQABAIAAAP//////...</td>\n",
       "    </tr>\n",
       "    <tr>\n",
       "      <th>5</th>\n",
       "      <td>Address by Shri Shaktikanta Das, Governor Rese...</td>\n",
       "      <td>YouTube</td>\n",
       "      <td>1 hour ago</td>\n",
       "      <td>2022-11-02 12:22:12.341340</td>\n",
       "      <td>2.1K views Streamed 2 hours ago. 2,123 views •...</td>\n",
       "      <td>https://www.youtube.com/watch?v=l10-NUlbbn0</td>\n",
       "      <td>data:image/gif;base64,R0lGODlhAQABAIAAAP//////...</td>\n",
       "    </tr>\n",
       "    <tr>\n",
       "      <th>6</th>\n",
       "      <td>As it happened: India bridge collapse tragedy</td>\n",
       "      <td>BBC</td>\n",
       "      <td>1 hour ago</td>\n",
       "      <td>2022-11-02 12:22:12.372589</td>\n",
       "      <td>The disaster happened on 30 October after a pe...</td>\n",
       "      <td>https://www.bbc.co.uk/news/live/world-asia-ind...</td>\n",
       "      <td>data:image/gif;base64,R0lGODlhAQABAIAAAP//////...</td>\n",
       "    </tr>\n",
       "    <tr>\n",
       "      <th>7</th>\n",
       "      <td>Flags at half-mast as India's Gujarat mourns d...</td>\n",
       "      <td>CNA</td>\n",
       "      <td>1 hour ago</td>\n",
       "      <td>2022-11-02 12:22:12.403841</td>\n",
       "      <td>MORBI, India: India's Gujarat state on Wednesd...</td>\n",
       "      <td>https://www.channelnewsasia.com/asia/flags-hal...</td>\n",
       "      <td>data:image/gif;base64,R0lGODlhAQABAIAAAP//////...</td>\n",
       "    </tr>\n",
       "    <tr>\n",
       "      <th>8</th>\n",
       "      <td>Seven members of same family killed in bridge ...</td>\n",
       "      <td>YouTube</td>\n",
       "      <td>2 hours ago</td>\n",
       "      <td>2022-11-02 11:22:12.419468</td>\n",
       "      <td>Subscribe to our YouTube channel for free here...</td>\n",
       "      <td>https://www.youtube.com/watch?v=_TVaatOsbxo</td>\n",
       "      <td>data:image/gif;base64,R0lGODlhAQABAIAAAP//////...</td>\n",
       "    </tr>\n",
       "    <tr>\n",
       "      <th>9</th>\n",
       "      <td>India growing rapidly, despite global uncertai...</td>\n",
       "      <td>Times of India</td>\n",
       "      <td>2 hours ago</td>\n",
       "      <td>2022-11-02 11:22:12.450720</td>\n",
       "      <td>India News: NEW DELHI: Prime Minister Narendra...</td>\n",
       "      <td>https://timesofindia.indiatimes.com/india/indi...</td>\n",
       "      <td>data:image/gif;base64,R0lGODlhAQABAIAAAP//////...</td>\n",
       "    </tr>\n",
       "  </tbody>\n",
       "</table>\n",
       "</div>"
      ],
      "text/plain": [
       "                                               title               media  \\\n",
       "0  India vs Bangladesh LIVE Score, T20 World Cup ...      Times of India   \n",
       "1  India vs Bangladesh Live Score, T20 World Cup ...  The Indian Express   \n",
       "2  Coronavirus in India Live Updates: India repor...      Times of India   \n",
       "3  Zimbabwe vs Netherlands Live Score, T20 World ...  The Indian Express   \n",
       "4         It's bahubali vs bahubali in Mokama bypoll      Times of India   \n",
       "5  Address by Shri Shaktikanta Das, Governor Rese...             YouTube   \n",
       "6      As it happened: India bridge collapse tragedy                 BBC   \n",
       "7  Flags at half-mast as India's Gujarat mourns d...                 CNA   \n",
       "8  Seven members of same family killed in bridge ...             YouTube   \n",
       "9  India growing rapidly, despite global uncertai...      Times of India   \n",
       "\n",
       "              date                   datetime  \\\n",
       "0   LIVE6 mins ago                        NaT   \n",
       "1   LIVE7 mins ago                        NaT   \n",
       "2  LIVE11 mins ago                        NaT   \n",
       "3  LIVE36 mins ago                        NaT   \n",
       "4       0 mins ago                        NaT   \n",
       "5       1 hour ago 2022-11-02 12:22:12.341340   \n",
       "6       1 hour ago 2022-11-02 12:22:12.372589   \n",
       "7       1 hour ago 2022-11-02 12:22:12.403841   \n",
       "8      2 hours ago 2022-11-02 11:22:12.419468   \n",
       "9      2 hours ago 2022-11-02 11:22:12.450720   \n",
       "\n",
       "                                                desc  \\\n",
       "0  Bangladesh skipper Shakib Al Hasan won the tos...   \n",
       "1  India vs Bangladesh Live Cricket Score, T20 WC...   \n",
       "2  With 1190 new Covid-19 cases in the last 24 ho...   \n",
       "3  Zimbabwe vs Netherlands Live Cricket Score, T2...   \n",
       "4  India News: The Mokama (Bihar) bypoll on Thurs...   \n",
       "5  2.1K views Streamed 2 hours ago. 2,123 views •...   \n",
       "6  The disaster happened on 30 October after a pe...   \n",
       "7  MORBI, India: India's Gujarat state on Wednesd...   \n",
       "8  Subscribe to our YouTube channel for free here...   \n",
       "9  India News: NEW DELHI: Prime Minister Narendra...   \n",
       "\n",
       "                                                link  \\\n",
       "0  https://timesofindia.indiatimes.com/sports/cri...   \n",
       "1  https://indianexpress.com/article/sports/crick...   \n",
       "2  https://timesofindia.indiatimes.com/india/coro...   \n",
       "3  https://indianexpress.com/article/sports/crick...   \n",
       "4  https://timesofindia.indiatimes.com/india/its-...   \n",
       "5        https://www.youtube.com/watch?v=l10-NUlbbn0   \n",
       "6  https://www.bbc.co.uk/news/live/world-asia-ind...   \n",
       "7  https://www.channelnewsasia.com/asia/flags-hal...   \n",
       "8        https://www.youtube.com/watch?v=_TVaatOsbxo   \n",
       "9  https://timesofindia.indiatimes.com/india/indi...   \n",
       "\n",
       "                                                 img  \n",
       "0  data:image/gif;base64,R0lGODlhAQABAIAAAP//////...  \n",
       "1  data:image/gif;base64,R0lGODlhAQABAIAAAP//////...  \n",
       "2  data:image/gif;base64,R0lGODlhAQABAIAAAP//////...  \n",
       "3  data:image/gif;base64,R0lGODlhAQABAIAAAP//////...  \n",
       "4  data:image/gif;base64,R0lGODlhAQABAIAAAP//////...  \n",
       "5  data:image/gif;base64,R0lGODlhAQABAIAAAP//////...  \n",
       "6  data:image/gif;base64,R0lGODlhAQABAIAAAP//////...  \n",
       "7  data:image/gif;base64,R0lGODlhAQABAIAAAP//////...  \n",
       "8  data:image/gif;base64,R0lGODlhAQABAIAAAP//////...  \n",
       "9  data:image/gif;base64,R0lGODlhAQABAIAAAP//////...  "
      ]
     },
     "execution_count": 15,
     "metadata": {},
     "output_type": "execute_result"
    }
   ],
   "source": [
    "data"
   ]
  },
  {
   "cell_type": "markdown",
   "id": "f0dec146",
   "metadata": {},
   "source": [
    "## Slicing The Data"
   ]
  },
  {
   "cell_type": "markdown",
   "id": "c5a2cfeb",
   "metadata": {},
   "source": [
    "## Drop The Column \"Img\""
   ]
  },
  {
   "cell_type": "code",
   "execution_count": 9,
   "id": "611cc46a",
   "metadata": {},
   "outputs": [],
   "source": [
    "data=data.drop(columns=[\"img\"])"
   ]
  },
  {
   "cell_type": "code",
   "execution_count": 10,
   "id": "ab6264d2",
   "metadata": {},
   "outputs": [
    {
     "data": {
      "text/html": [
       "<div>\n",
       "<style scoped>\n",
       "    .dataframe tbody tr th:only-of-type {\n",
       "        vertical-align: middle;\n",
       "    }\n",
       "\n",
       "    .dataframe tbody tr th {\n",
       "        vertical-align: top;\n",
       "    }\n",
       "\n",
       "    .dataframe thead th {\n",
       "        text-align: right;\n",
       "    }\n",
       "</style>\n",
       "<table border=\"1\" class=\"dataframe\">\n",
       "  <thead>\n",
       "    <tr style=\"text-align: right;\">\n",
       "      <th></th>\n",
       "      <th>title</th>\n",
       "      <th>media</th>\n",
       "      <th>date</th>\n",
       "      <th>datetime</th>\n",
       "      <th>desc</th>\n",
       "      <th>link</th>\n",
       "    </tr>\n",
       "  </thead>\n",
       "  <tbody>\n",
       "    <tr>\n",
       "      <th>0</th>\n",
       "      <td>India vs Bangladesh LIVE Score, T20 World Cup ...</td>\n",
       "      <td>Times of India</td>\n",
       "      <td>LIVE6 mins ago</td>\n",
       "      <td>NaT</td>\n",
       "      <td>Bangladesh skipper Shakib Al Hasan won the tos...</td>\n",
       "      <td>https://timesofindia.indiatimes.com/sports/cri...</td>\n",
       "    </tr>\n",
       "    <tr>\n",
       "      <th>1</th>\n",
       "      <td>India vs Bangladesh Live Score, T20 World Cup ...</td>\n",
       "      <td>The Indian Express</td>\n",
       "      <td>LIVE7 mins ago</td>\n",
       "      <td>NaT</td>\n",
       "      <td>India vs Bangladesh Live Cricket Score, T20 WC...</td>\n",
       "      <td>https://indianexpress.com/article/sports/crick...</td>\n",
       "    </tr>\n",
       "    <tr>\n",
       "      <th>2</th>\n",
       "      <td>Coronavirus in India Live Updates: India repor...</td>\n",
       "      <td>Times of India</td>\n",
       "      <td>LIVE11 mins ago</td>\n",
       "      <td>NaT</td>\n",
       "      <td>With 1190 new Covid-19 cases in the last 24 ho...</td>\n",
       "      <td>https://timesofindia.indiatimes.com/india/coro...</td>\n",
       "    </tr>\n",
       "    <tr>\n",
       "      <th>3</th>\n",
       "      <td>Zimbabwe vs Netherlands Live Score, T20 World ...</td>\n",
       "      <td>The Indian Express</td>\n",
       "      <td>LIVE36 mins ago</td>\n",
       "      <td>NaT</td>\n",
       "      <td>Zimbabwe vs Netherlands Live Cricket Score, T2...</td>\n",
       "      <td>https://indianexpress.com/article/sports/crick...</td>\n",
       "    </tr>\n",
       "    <tr>\n",
       "      <th>4</th>\n",
       "      <td>It's bahubali vs bahubali in Mokama bypoll</td>\n",
       "      <td>Times of India</td>\n",
       "      <td>0 mins ago</td>\n",
       "      <td>NaT</td>\n",
       "      <td>India News: The Mokama (Bihar) bypoll on Thurs...</td>\n",
       "      <td>https://timesofindia.indiatimes.com/india/its-...</td>\n",
       "    </tr>\n",
       "    <tr>\n",
       "      <th>5</th>\n",
       "      <td>Address by Shri Shaktikanta Das, Governor Rese...</td>\n",
       "      <td>YouTube</td>\n",
       "      <td>1 hour ago</td>\n",
       "      <td>2022-11-02 12:22:12.341340</td>\n",
       "      <td>2.1K views Streamed 2 hours ago. 2,123 views •...</td>\n",
       "      <td>https://www.youtube.com/watch?v=l10-NUlbbn0</td>\n",
       "    </tr>\n",
       "    <tr>\n",
       "      <th>6</th>\n",
       "      <td>As it happened: India bridge collapse tragedy</td>\n",
       "      <td>BBC</td>\n",
       "      <td>1 hour ago</td>\n",
       "      <td>2022-11-02 12:22:12.372589</td>\n",
       "      <td>The disaster happened on 30 October after a pe...</td>\n",
       "      <td>https://www.bbc.co.uk/news/live/world-asia-ind...</td>\n",
       "    </tr>\n",
       "    <tr>\n",
       "      <th>7</th>\n",
       "      <td>Flags at half-mast as India's Gujarat mourns d...</td>\n",
       "      <td>CNA</td>\n",
       "      <td>1 hour ago</td>\n",
       "      <td>2022-11-02 12:22:12.403841</td>\n",
       "      <td>MORBI, India: India's Gujarat state on Wednesd...</td>\n",
       "      <td>https://www.channelnewsasia.com/asia/flags-hal...</td>\n",
       "    </tr>\n",
       "    <tr>\n",
       "      <th>8</th>\n",
       "      <td>Seven members of same family killed in bridge ...</td>\n",
       "      <td>YouTube</td>\n",
       "      <td>2 hours ago</td>\n",
       "      <td>2022-11-02 11:22:12.419468</td>\n",
       "      <td>Subscribe to our YouTube channel for free here...</td>\n",
       "      <td>https://www.youtube.com/watch?v=_TVaatOsbxo</td>\n",
       "    </tr>\n",
       "    <tr>\n",
       "      <th>9</th>\n",
       "      <td>India growing rapidly, despite global uncertai...</td>\n",
       "      <td>Times of India</td>\n",
       "      <td>2 hours ago</td>\n",
       "      <td>2022-11-02 11:22:12.450720</td>\n",
       "      <td>India News: NEW DELHI: Prime Minister Narendra...</td>\n",
       "      <td>https://timesofindia.indiatimes.com/india/indi...</td>\n",
       "    </tr>\n",
       "  </tbody>\n",
       "</table>\n",
       "</div>"
      ],
      "text/plain": [
       "                                               title               media  \\\n",
       "0  India vs Bangladesh LIVE Score, T20 World Cup ...      Times of India   \n",
       "1  India vs Bangladesh Live Score, T20 World Cup ...  The Indian Express   \n",
       "2  Coronavirus in India Live Updates: India repor...      Times of India   \n",
       "3  Zimbabwe vs Netherlands Live Score, T20 World ...  The Indian Express   \n",
       "4         It's bahubali vs bahubali in Mokama bypoll      Times of India   \n",
       "5  Address by Shri Shaktikanta Das, Governor Rese...             YouTube   \n",
       "6      As it happened: India bridge collapse tragedy                 BBC   \n",
       "7  Flags at half-mast as India's Gujarat mourns d...                 CNA   \n",
       "8  Seven members of same family killed in bridge ...             YouTube   \n",
       "9  India growing rapidly, despite global uncertai...      Times of India   \n",
       "\n",
       "              date                   datetime  \\\n",
       "0   LIVE6 mins ago                        NaT   \n",
       "1   LIVE7 mins ago                        NaT   \n",
       "2  LIVE11 mins ago                        NaT   \n",
       "3  LIVE36 mins ago                        NaT   \n",
       "4       0 mins ago                        NaT   \n",
       "5       1 hour ago 2022-11-02 12:22:12.341340   \n",
       "6       1 hour ago 2022-11-02 12:22:12.372589   \n",
       "7       1 hour ago 2022-11-02 12:22:12.403841   \n",
       "8      2 hours ago 2022-11-02 11:22:12.419468   \n",
       "9      2 hours ago 2022-11-02 11:22:12.450720   \n",
       "\n",
       "                                                desc  \\\n",
       "0  Bangladesh skipper Shakib Al Hasan won the tos...   \n",
       "1  India vs Bangladesh Live Cricket Score, T20 WC...   \n",
       "2  With 1190 new Covid-19 cases in the last 24 ho...   \n",
       "3  Zimbabwe vs Netherlands Live Cricket Score, T2...   \n",
       "4  India News: The Mokama (Bihar) bypoll on Thurs...   \n",
       "5  2.1K views Streamed 2 hours ago. 2,123 views •...   \n",
       "6  The disaster happened on 30 October after a pe...   \n",
       "7  MORBI, India: India's Gujarat state on Wednesd...   \n",
       "8  Subscribe to our YouTube channel for free here...   \n",
       "9  India News: NEW DELHI: Prime Minister Narendra...   \n",
       "\n",
       "                                                link  \n",
       "0  https://timesofindia.indiatimes.com/sports/cri...  \n",
       "1  https://indianexpress.com/article/sports/crick...  \n",
       "2  https://timesofindia.indiatimes.com/india/coro...  \n",
       "3  https://indianexpress.com/article/sports/crick...  \n",
       "4  https://timesofindia.indiatimes.com/india/its-...  \n",
       "5        https://www.youtube.com/watch?v=l10-NUlbbn0  \n",
       "6  https://www.bbc.co.uk/news/live/world-asia-ind...  \n",
       "7  https://www.channelnewsasia.com/asia/flags-hal...  \n",
       "8        https://www.youtube.com/watch?v=_TVaatOsbxo  \n",
       "9  https://timesofindia.indiatimes.com/india/indi...  "
      ]
     },
     "execution_count": 10,
     "metadata": {},
     "output_type": "execute_result"
    }
   ],
   "source": [
    "data"
   ]
  },
  {
   "cell_type": "markdown",
   "id": "41861350",
   "metadata": {},
   "source": [
    "## Data Shape"
   ]
  },
  {
   "cell_type": "code",
   "execution_count": 13,
   "id": "d2c1e1c5",
   "metadata": {},
   "outputs": [
    {
     "data": {
      "text/plain": [
       "(10, 6)"
      ]
     },
     "execution_count": 13,
     "metadata": {},
     "output_type": "execute_result"
    }
   ],
   "source": [
    "data.shape"
   ]
  },
  {
   "cell_type": "markdown",
   "id": "cbe2c3d2",
   "metadata": {},
   "source": [
    "## Complete Link Of The News Article"
   ]
  },
  {
   "cell_type": "markdown",
   "id": "284a14f7",
   "metadata": {},
   "source": [
    "### Using For Loop"
   ]
  },
  {
   "cell_type": "code",
   "execution_count": 12,
   "id": "01793334",
   "metadata": {},
   "outputs": [
    {
     "name": "stdout",
     "output_type": "stream",
     "text": [
      "Title :  India vs Bangladesh LIVE Score, T20 World Cup 2022: India face Bangladesh with rain threat looming large\n",
      "News :  Bangladesh skipper Shakib Al Hasan won the toss and decided to field first \n",
      "against India at Adelaide Oval. Matches against Bangladesh across formats.\n",
      "Read Full News :  https://timesofindia.indiatimes.com/sports/cricket/icc-mens-t20-world-cup/india-vs-bangladesh-t20-world-cup-live-cricket-score-updates/liveblog/95245195.cms\n",
      "Title :  India vs Bangladesh Live Score, T20 World Cup 2022: BAN win toss and opt to bowl in Adelaide\n",
      "News :  India vs Bangladesh Live Cricket Score, T20 WC 2022, 35th Match, Super 12 \n",
      "Group 2: India will be hoping to put the defeat against South Africa in the \n",
      "rear...\n",
      "Read Full News :  https://indianexpress.com/article/sports/cricket/ind-vs-ban-live-india-vs-bangladesh-live-cricket-score-t20-world-cup-2022-8243668/\n",
      "Title :  Coronavirus in India Live Updates: India reports 1,190 new Covid-19 cases, 1,375 deaths in last 24 hours\n",
      "News :  With 1190 new Covid-19 cases in the last 24 hours, India's coronavirus \n",
      "tally has climbed to 4,46,55828. The death toll due to the viral disease \n",
      "has.\n",
      "Read Full News :  https://timesofindia.indiatimes.com/india/coronavirus-in-india-live-updates-november-2/liveblog/95240807.cms\n",
      "Title :  Zimbabwe vs Netherlands Live Score, T20 World Cup 2022: NED win by five wickets, Max ODowd scores 52\n",
      "News :  Zimbabwe vs Netherlands Live Cricket Score, T20 WC 2022, 34th Match, Super \n",
      "12 Group 2: Playing a must win game to stay in contention for the \n",
      "semifinals,...\n",
      "Read Full News :  https://indianexpress.com/article/sports/cricket/zim-vs-ned-live-zimbabwe-vs-netherlands-live-cricket-score-t20-world-cup-2022-8243639/\n",
      "Title :  It's bahubali vs bahubali in Mokama bypoll\n",
      "News :  India News: The Mokama (Bihar) bypoll on Thursday has shaped up as a fight \n",
      "between competing bahubalis with the wives of two strongmen in the fray.\n",
      "Read Full News :  https://timesofindia.indiatimes.com/india/its-bahubali-vs-bahubali-in-mokama-bypoll/articleshow/95248410.cms\n",
      "Title :  Address by Shri Shaktikanta Das, Governor Reserve Bank of India in FIBAC 2022\n",
      "News :  2.1K views Streamed 2 hours ago. 2,123 views • Streamed live 2 hours ago. \n",
      "Address by Shri Shaktikanta Das, Governor Reserve Bank of India in FIBAC \n",
      "2022...\n",
      "Read Full News :  https://www.youtube.com/watch?v=l10-NUlbbn0\n",
      "Title :  As it happened: India bridge collapse tragedy\n",
      "News :  The disaster happened on 30 October after a pedestrian suspension bridge \n",
      "collapsed in India.\n",
      "Read Full News :  https://www.bbc.co.uk/news/live/world-asia-india-63452531\n",
      "Title :  Flags at half-mast as India's Gujarat mourns deadly bridge collapse\n",
      "News :  MORBI, India: India's Gujarat state on Wednesday (Nov 3) mourned the death \n",
      "of 135 people from a bridge collapse last weekend, with the national flag \n",
      "at...\n",
      "Read Full News :  https://www.channelnewsasia.com/asia/flags-half-mast-indias-gujarat-mourns-deadly-bridge-collapse-3038026\n",
      "Title :  Seven members of same family killed in bridge collapse in Indian state of Gujarat\n",
      "News :  Subscribe to our YouTube channel for free here: \n",
      "https://sc.mp/subscribe-youtubeNaseema Ben Shamdar lost seven members of \n",
      "her family who were killed as they...\n",
      "Read Full News :  https://www.youtube.com/watch?v=_TVaatOsbxo\n",
      "Title :  India growing rapidly, despite global uncertainties, says PM Modi at Global Investors Meet in Karnataka\n",
      "News :  India News: NEW DELHI: Prime Minister Narendra Modi said that India is \n",
      "growing rapidly, despite global uncertainties, as he addressed the \n",
      "inaugural function...\n",
      "Read Full News :  https://timesofindia.indiatimes.com/india/india-growing-rapidly-despite-global-uncertainties-says-pm-modi-at-global-investors-meet-in-karnataka/articleshow/95244880.cms\n"
     ]
    }
   ],
   "source": [
    "for i in result:\n",
    "    print(\"Title : \", i[\"title\"])\n",
    "    print(\"News : \", i[\"desc\"])\n",
    "    print(\"Read Full News : \", i[\"link\"])"
   ]
  },
  {
   "cell_type": "code",
   "execution_count": null,
   "id": "1185fa7f",
   "metadata": {},
   "outputs": [],
   "source": []
  },
  {
   "cell_type": "code",
   "execution_count": null,
   "id": "4ad92cea",
   "metadata": {},
   "outputs": [],
   "source": []
  }
 ],
 "metadata": {
  "kernelspec": {
   "display_name": "Python 3 (ipykernel)",
   "language": "python",
   "name": "python3"
  },
  "language_info": {
   "codemirror_mode": {
    "name": "ipython",
    "version": 3
   },
   "file_extension": ".py",
   "mimetype": "text/x-python",
   "name": "python",
   "nbconvert_exporter": "python",
   "pygments_lexer": "ipython3",
   "version": "3.9.12"
  }
 },
 "nbformat": 4,
 "nbformat_minor": 5
}
