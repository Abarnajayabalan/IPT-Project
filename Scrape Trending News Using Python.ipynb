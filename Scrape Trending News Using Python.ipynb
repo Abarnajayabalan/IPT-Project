{
 "cells": [
  {
   "cell_type": "markdown",
   "id": "2b59272a",
   "metadata": {},
   "source": [
    "# Scrape Trending News Using Python"
   ]
  },
  {
   "cell_type": "markdown",
   "id": "04e93af9",
   "metadata": {},
   "source": [
    "## Install Libraries"
   ]
  },
  {
   "cell_type": "code",
   "execution_count": 1,
   "id": "9c065240",
   "metadata": {},
   "outputs": [
    {
     "name": "stdout",
     "output_type": "stream",
     "text": [
      "Requirement already satisfied: googlenews in c:\\users\\raja\\documents\\abar\\lib\\site-packages (1.6.5)Note: you may need to restart the kernel to use updated packages.\n",
      "\n",
      "Requirement already satisfied: beautifulsoup4 in c:\\users\\raja\\documents\\abar\\lib\\site-packages (from googlenews) (4.11.1)\n",
      "Requirement already satisfied: python-dateutil in c:\\users\\raja\\documents\\abar\\lib\\site-packages (from googlenews) (2.8.2)\n",
      "Requirement already satisfied: dateparser in c:\\users\\raja\\documents\\abar\\lib\\site-packages (from googlenews) (1.1.1)\n",
      "Requirement already satisfied: soupsieve>1.2 in c:\\users\\raja\\documents\\abar\\lib\\site-packages (from beautifulsoup4->googlenews) (2.3.1)\n",
      "Requirement already satisfied: tzlocal in c:\\users\\raja\\documents\\abar\\lib\\site-packages (from dateparser->googlenews) (4.2)\n",
      "Requirement already satisfied: regex!=2019.02.19,!=2021.8.27,<2022.3.15 in c:\\users\\raja\\documents\\abar\\lib\\site-packages (from dateparser->googlenews) (2022.3.2)\n",
      "Requirement already satisfied: pytz in c:\\users\\raja\\documents\\abar\\lib\\site-packages (from dateparser->googlenews) (2021.3)\n",
      "Requirement already satisfied: six>=1.5 in c:\\users\\raja\\documents\\abar\\lib\\site-packages (from python-dateutil->googlenews) (1.16.0)\n",
      "Requirement already satisfied: tzdata in c:\\users\\raja\\documents\\abar\\lib\\site-packages (from tzlocal->dateparser->googlenews) (2022.2)\n",
      "Requirement already satisfied: pytz-deprecation-shim in c:\\users\\raja\\documents\\abar\\lib\\site-packages (from tzlocal->dateparser->googlenews) (0.1.0.post0)\n"
     ]
    }
   ],
   "source": [
    "pip install googlenews"
   ]
  },
  {
   "cell_type": "markdown",
   "id": "9276d435",
   "metadata": {},
   "source": [
    "## Importing Libraries"
   ]
  },
  {
   "cell_type": "code",
   "execution_count": 2,
   "id": "17948ad6",
   "metadata": {},
   "outputs": [],
   "source": [
    "from GoogleNews import GoogleNews\n"
   ]
  },
  {
   "cell_type": "code",
   "execution_count": 3,
   "id": "e074444b",
   "metadata": {},
   "outputs": [],
   "source": [
    "import pandas as pd"
   ]
  },
  {
   "cell_type": "markdown",
   "id": "5f142dbe",
   "metadata": {},
   "source": [
    "## Scrape The Latest Trending News About India"
   ]
  },
  {
   "cell_type": "code",
   "execution_count": 4,
   "id": "b4dea992",
   "metadata": {},
   "outputs": [],
   "source": [
    "news = GoogleNews(period='1d')"
   ]
  },
  {
   "cell_type": "code",
   "execution_count": 5,
   "id": "6def9c76",
   "metadata": {},
   "outputs": [],
   "source": [
    "news.search(\"India\")"
   ]
  },
  {
   "cell_type": "code",
   "execution_count": 6,
   "id": "e1c387a8",
   "metadata": {},
   "outputs": [],
   "source": [
    "result = news.result()"
   ]
  },
  {
   "cell_type": "markdown",
   "id": "67e14aa5",
   "metadata": {},
   "source": [
    "## Importing Data"
   ]
  },
  {
   "cell_type": "code",
   "execution_count": 7,
   "id": "3524ded0",
   "metadata": {},
   "outputs": [],
   "source": [
    "data = pd.DataFrame.from_dict(result)"
   ]
  },
  {
   "cell_type": "code",
   "execution_count": 8,
   "id": "6f8a21fd",
   "metadata": {},
   "outputs": [
    {
     "data": {
      "text/html": [
       "<div>\n",
       "<style scoped>\n",
       "    .dataframe tbody tr th:only-of-type {\n",
       "        vertical-align: middle;\n",
       "    }\n",
       "\n",
       "    .dataframe tbody tr th {\n",
       "        vertical-align: top;\n",
       "    }\n",
       "\n",
       "    .dataframe thead th {\n",
       "        text-align: right;\n",
       "    }\n",
       "</style>\n",
       "<table border=\"1\" class=\"dataframe\">\n",
       "  <thead>\n",
       "    <tr style=\"text-align: right;\">\n",
       "      <th></th>\n",
       "      <th>title</th>\n",
       "      <th>media</th>\n",
       "      <th>date</th>\n",
       "      <th>datetime</th>\n",
       "      <th>desc</th>\n",
       "      <th>link</th>\n",
       "      <th>img</th>\n",
       "    </tr>\n",
       "  </thead>\n",
       "  <tbody>\n",
       "    <tr>\n",
       "      <th>0</th>\n",
       "      <td>Sri Lanka vs Pakistan Live Score Asia Cup Fina...</td>\n",
       "      <td>Cricket Addictor</td>\n",
       "      <td>4 mins ago</td>\n",
       "      <td>NaT</td>\n",
       "      <td>Sri Lanka vs Pakistan Live Score Asia Cup Fina...</td>\n",
       "      <td>https://cricketaddictor.com/asia-cup-2022/sri-...</td>\n",
       "      <td>data:image/gif;base64,R0lGODlhAQABAIAAAP//////...</td>\n",
       "    </tr>\n",
       "    <tr>\n",
       "      <th>1</th>\n",
       "      <td>Queen Elizabeth II Death Live Updates: Queen E...</td>\n",
       "      <td>The Indian Express</td>\n",
       "      <td>LIVE15 mins ago</td>\n",
       "      <td>NaT</td>\n",
       "      <td>Queen Elizabeth II Death Live Updates: India h...</td>\n",
       "      <td>https://indianexpress.com/article/world/uk-que...</td>\n",
       "      <td>data:image/gif;base64,R0lGODlhAQABAIAAAP//////...</td>\n",
       "    </tr>\n",
       "    <tr>\n",
       "      <th>2</th>\n",
       "      <td>IGE India buys 2 flats in Oberoi Realty’s Worl...</td>\n",
       "      <td>Mint</td>\n",
       "      <td>1 hour ago</td>\n",
       "      <td>2022-09-11 20:30:03.307960</td>\n",
       "      <td>BENGALURU : IGE (India) Pvt Ltd has bought two...</td>\n",
       "      <td>https://www.livemint.com/companies/news/ige-in...</td>\n",
       "      <td>data:image/gif;base64,R0lGODlhAQABAIAAAP//////...</td>\n",
       "    </tr>\n",
       "    <tr>\n",
       "      <th>3</th>\n",
       "      <td>Indian Railways revenue up 38% to Rs 95,486.58...</td>\n",
       "      <td>Times of India</td>\n",
       "      <td>1 hour ago</td>\n",
       "      <td>2022-09-11 20:30:03.323585</td>\n",
       "      <td>India News: NEW DELHI: The overall revenue of ...</td>\n",
       "      <td>https://timesofindia.indiatimes.com/india/indi...</td>\n",
       "      <td>data:image/gif;base64,R0lGODlhAQABAIAAAP//////...</td>\n",
       "    </tr>\n",
       "    <tr>\n",
       "      <th>4</th>\n",
       "      <td>Tata confirms Tiago EV to launch in India soon...</td>\n",
       "      <td>91Mobiles</td>\n",
       "      <td>2 hours ago</td>\n",
       "      <td>2022-09-11 19:30:03.354841</td>\n",
       "      <td>Tata Motors confirmed the Tata Tiago EV launch...</td>\n",
       "      <td>https://www.91mobiles.com/hub/tata-tiago-ev-in...</td>\n",
       "      <td>data:image/gif;base64,R0lGODlhAQABAIAAAP//////...</td>\n",
       "    </tr>\n",
       "    <tr>\n",
       "      <th>5</th>\n",
       "      <td>Draped in a sari, British-Indian artist’s scul...</td>\n",
       "      <td>ThePrint</td>\n",
       "      <td>2 hours ago</td>\n",
       "      <td>2022-09-11 19:30:03.370466</td>\n",
       "      <td>Titled 'Ancestor', the bronze sculpture by Bha...</td>\n",
       "      <td>https://theprint.in/india/draped-in-a-sari-bri...</td>\n",
       "      <td>data:image/gif;base64,R0lGODlhAQABAIAAAP//////...</td>\n",
       "    </tr>\n",
       "    <tr>\n",
       "      <th>6</th>\n",
       "      <td>'I want more from him. I want to see his pace ...</td>\n",
       "      <td>Hindustan Times</td>\n",
       "      <td>2 hours ago</td>\n",
       "      <td>2022-09-11 19:30:03.386093</td>\n",
       "      <td>The former Australia fast bowler gave his verd...</td>\n",
       "      <td>https://www.hindustantimes.com/cricket/i-want-...</td>\n",
       "      <td>data:image/gif;base64,R0lGODlhAQABAIAAAP//////...</td>\n",
       "    </tr>\n",
       "    <tr>\n",
       "      <th>7</th>\n",
       "      <td>KCR eyes electoral pie beyond Telangana, to la...</td>\n",
       "      <td>Times of India</td>\n",
       "      <td>3 hours ago</td>\n",
       "      <td>2022-09-11 18:30:03.401716</td>\n",
       "      <td>India News: Telangana Rashtra Samithi chief mi...</td>\n",
       "      <td>https://timesofindia.indiatimes.com/india/will...</td>\n",
       "      <td>data:image/gif;base64,R0lGODlhAQABAIAAAP//////...</td>\n",
       "    </tr>\n",
       "    <tr>\n",
       "      <th>8</th>\n",
       "      <td>Atmanirbhar Bharat: Indian weapons set to rule...</td>\n",
       "      <td>The Financial Express</td>\n",
       "      <td>3 hours ago</td>\n",
       "      <td>2022-09-11 18:30:03.432968</td>\n",
       "      <td>Defence production for the Indian Armed Forces...</td>\n",
       "      <td>https://www.financialexpress.com/defence/atman...</td>\n",
       "      <td>data:image/gif;base64,R0lGODlhAQABAIAAAP//////...</td>\n",
       "    </tr>\n",
       "    <tr>\n",
       "      <th>9</th>\n",
       "      <td>JEE Advanced Result 2022: All-India topper RK ...</td>\n",
       "      <td>The Indian Express</td>\n",
       "      <td>3 hours ago</td>\n",
       "      <td>2022-09-11 18:30:03.448595</td>\n",
       "      <td>In July, Shishir, a student of Narayana eTechn...</td>\n",
       "      <td>https://indianexpress.com/article/education/ii...</td>\n",
       "      <td>data:image/gif;base64,R0lGODlhAQABAIAAAP//////...</td>\n",
       "    </tr>\n",
       "  </tbody>\n",
       "</table>\n",
       "</div>"
      ],
      "text/plain": [
       "                                               title                  media  \\\n",
       "0  Sri Lanka vs Pakistan Live Score Asia Cup Fina...       Cricket Addictor   \n",
       "1  Queen Elizabeth II Death Live Updates: Queen E...     The Indian Express   \n",
       "2  IGE India buys 2 flats in Oberoi Realty’s Worl...                   Mint   \n",
       "3  Indian Railways revenue up 38% to Rs 95,486.58...         Times of India   \n",
       "4  Tata confirms Tiago EV to launch in India soon...              91Mobiles   \n",
       "5  Draped in a sari, British-Indian artist’s scul...               ThePrint   \n",
       "6  'I want more from him. I want to see his pace ...        Hindustan Times   \n",
       "7  KCR eyes electoral pie beyond Telangana, to la...         Times of India   \n",
       "8  Atmanirbhar Bharat: Indian weapons set to rule...  The Financial Express   \n",
       "9  JEE Advanced Result 2022: All-India topper RK ...     The Indian Express   \n",
       "\n",
       "              date                   datetime  \\\n",
       "0       4 mins ago                        NaT   \n",
       "1  LIVE15 mins ago                        NaT   \n",
       "2       1 hour ago 2022-09-11 20:30:03.307960   \n",
       "3       1 hour ago 2022-09-11 20:30:03.323585   \n",
       "4      2 hours ago 2022-09-11 19:30:03.354841   \n",
       "5      2 hours ago 2022-09-11 19:30:03.370466   \n",
       "6      2 hours ago 2022-09-11 19:30:03.386093   \n",
       "7      3 hours ago 2022-09-11 18:30:03.401716   \n",
       "8      3 hours ago 2022-09-11 18:30:03.432968   \n",
       "9      3 hours ago 2022-09-11 18:30:03.448595   \n",
       "\n",
       "                                                desc  \\\n",
       "0  Sri Lanka vs Pakistan Live Score Asia Cup Fina...   \n",
       "1  Queen Elizabeth II Death Live Updates: India h...   \n",
       "2  BENGALURU : IGE (India) Pvt Ltd has bought two...   \n",
       "3  India News: NEW DELHI: The overall revenue of ...   \n",
       "4  Tata Motors confirmed the Tata Tiago EV launch...   \n",
       "5  Titled 'Ancestor', the bronze sculpture by Bha...   \n",
       "6  The former Australia fast bowler gave his verd...   \n",
       "7  India News: Telangana Rashtra Samithi chief mi...   \n",
       "8  Defence production for the Indian Armed Forces...   \n",
       "9  In July, Shishir, a student of Narayana eTechn...   \n",
       "\n",
       "                                                link  \\\n",
       "0  https://cricketaddictor.com/asia-cup-2022/sri-...   \n",
       "1  https://indianexpress.com/article/world/uk-que...   \n",
       "2  https://www.livemint.com/companies/news/ige-in...   \n",
       "3  https://timesofindia.indiatimes.com/india/indi...   \n",
       "4  https://www.91mobiles.com/hub/tata-tiago-ev-in...   \n",
       "5  https://theprint.in/india/draped-in-a-sari-bri...   \n",
       "6  https://www.hindustantimes.com/cricket/i-want-...   \n",
       "7  https://timesofindia.indiatimes.com/india/will...   \n",
       "8  https://www.financialexpress.com/defence/atman...   \n",
       "9  https://indianexpress.com/article/education/ii...   \n",
       "\n",
       "                                                 img  \n",
       "0  data:image/gif;base64,R0lGODlhAQABAIAAAP//////...  \n",
       "1  data:image/gif;base64,R0lGODlhAQABAIAAAP//////...  \n",
       "2  data:image/gif;base64,R0lGODlhAQABAIAAAP//////...  \n",
       "3  data:image/gif;base64,R0lGODlhAQABAIAAAP//////...  \n",
       "4  data:image/gif;base64,R0lGODlhAQABAIAAAP//////...  \n",
       "5  data:image/gif;base64,R0lGODlhAQABAIAAAP//////...  \n",
       "6  data:image/gif;base64,R0lGODlhAQABAIAAAP//////...  \n",
       "7  data:image/gif;base64,R0lGODlhAQABAIAAAP//////...  \n",
       "8  data:image/gif;base64,R0lGODlhAQABAIAAAP//////...  \n",
       "9  data:image/gif;base64,R0lGODlhAQABAIAAAP//////...  "
      ]
     },
     "execution_count": 8,
     "metadata": {},
     "output_type": "execute_result"
    }
   ],
   "source": [
    "data"
   ]
  },
  {
   "cell_type": "markdown",
   "id": "f0dec146",
   "metadata": {},
   "source": [
    "## Slicing The Data"
   ]
  },
  {
   "cell_type": "markdown",
   "id": "c5a2cfeb",
   "metadata": {},
   "source": [
    "## Drop The Column \"Img\""
   ]
  },
  {
   "cell_type": "code",
   "execution_count": 9,
   "id": "611cc46a",
   "metadata": {},
   "outputs": [],
   "source": [
    "data=data.drop(columns=[\"img\"])"
   ]
  },
  {
   "cell_type": "code",
   "execution_count": 10,
   "id": "ab6264d2",
   "metadata": {},
   "outputs": [
    {
     "data": {
      "text/html": [
       "<div>\n",
       "<style scoped>\n",
       "    .dataframe tbody tr th:only-of-type {\n",
       "        vertical-align: middle;\n",
       "    }\n",
       "\n",
       "    .dataframe tbody tr th {\n",
       "        vertical-align: top;\n",
       "    }\n",
       "\n",
       "    .dataframe thead th {\n",
       "        text-align: right;\n",
       "    }\n",
       "</style>\n",
       "<table border=\"1\" class=\"dataframe\">\n",
       "  <thead>\n",
       "    <tr style=\"text-align: right;\">\n",
       "      <th></th>\n",
       "      <th>title</th>\n",
       "      <th>media</th>\n",
       "      <th>date</th>\n",
       "      <th>datetime</th>\n",
       "      <th>desc</th>\n",
       "      <th>link</th>\n",
       "    </tr>\n",
       "  </thead>\n",
       "  <tbody>\n",
       "    <tr>\n",
       "      <th>0</th>\n",
       "      <td>Sri Lanka vs Pakistan Live Score Asia Cup Fina...</td>\n",
       "      <td>Cricket Addictor</td>\n",
       "      <td>4 mins ago</td>\n",
       "      <td>NaT</td>\n",
       "      <td>Sri Lanka vs Pakistan Live Score Asia Cup Fina...</td>\n",
       "      <td>https://cricketaddictor.com/asia-cup-2022/sri-...</td>\n",
       "    </tr>\n",
       "    <tr>\n",
       "      <th>1</th>\n",
       "      <td>Queen Elizabeth II Death Live Updates: Queen E...</td>\n",
       "      <td>The Indian Express</td>\n",
       "      <td>LIVE15 mins ago</td>\n",
       "      <td>NaT</td>\n",
       "      <td>Queen Elizabeth II Death Live Updates: India h...</td>\n",
       "      <td>https://indianexpress.com/article/world/uk-que...</td>\n",
       "    </tr>\n",
       "    <tr>\n",
       "      <th>2</th>\n",
       "      <td>IGE India buys 2 flats in Oberoi Realty’s Worl...</td>\n",
       "      <td>Mint</td>\n",
       "      <td>1 hour ago</td>\n",
       "      <td>2022-09-11 20:30:03.307960</td>\n",
       "      <td>BENGALURU : IGE (India) Pvt Ltd has bought two...</td>\n",
       "      <td>https://www.livemint.com/companies/news/ige-in...</td>\n",
       "    </tr>\n",
       "    <tr>\n",
       "      <th>3</th>\n",
       "      <td>Indian Railways revenue up 38% to Rs 95,486.58...</td>\n",
       "      <td>Times of India</td>\n",
       "      <td>1 hour ago</td>\n",
       "      <td>2022-09-11 20:30:03.323585</td>\n",
       "      <td>India News: NEW DELHI: The overall revenue of ...</td>\n",
       "      <td>https://timesofindia.indiatimes.com/india/indi...</td>\n",
       "    </tr>\n",
       "    <tr>\n",
       "      <th>4</th>\n",
       "      <td>Tata confirms Tiago EV to launch in India soon...</td>\n",
       "      <td>91Mobiles</td>\n",
       "      <td>2 hours ago</td>\n",
       "      <td>2022-09-11 19:30:03.354841</td>\n",
       "      <td>Tata Motors confirmed the Tata Tiago EV launch...</td>\n",
       "      <td>https://www.91mobiles.com/hub/tata-tiago-ev-in...</td>\n",
       "    </tr>\n",
       "    <tr>\n",
       "      <th>5</th>\n",
       "      <td>Draped in a sari, British-Indian artist’s scul...</td>\n",
       "      <td>ThePrint</td>\n",
       "      <td>2 hours ago</td>\n",
       "      <td>2022-09-11 19:30:03.370466</td>\n",
       "      <td>Titled 'Ancestor', the bronze sculpture by Bha...</td>\n",
       "      <td>https://theprint.in/india/draped-in-a-sari-bri...</td>\n",
       "    </tr>\n",
       "    <tr>\n",
       "      <th>6</th>\n",
       "      <td>'I want more from him. I want to see his pace ...</td>\n",
       "      <td>Hindustan Times</td>\n",
       "      <td>2 hours ago</td>\n",
       "      <td>2022-09-11 19:30:03.386093</td>\n",
       "      <td>The former Australia fast bowler gave his verd...</td>\n",
       "      <td>https://www.hindustantimes.com/cricket/i-want-...</td>\n",
       "    </tr>\n",
       "    <tr>\n",
       "      <th>7</th>\n",
       "      <td>KCR eyes electoral pie beyond Telangana, to la...</td>\n",
       "      <td>Times of India</td>\n",
       "      <td>3 hours ago</td>\n",
       "      <td>2022-09-11 18:30:03.401716</td>\n",
       "      <td>India News: Telangana Rashtra Samithi chief mi...</td>\n",
       "      <td>https://timesofindia.indiatimes.com/india/will...</td>\n",
       "    </tr>\n",
       "    <tr>\n",
       "      <th>8</th>\n",
       "      <td>Atmanirbhar Bharat: Indian weapons set to rule...</td>\n",
       "      <td>The Financial Express</td>\n",
       "      <td>3 hours ago</td>\n",
       "      <td>2022-09-11 18:30:03.432968</td>\n",
       "      <td>Defence production for the Indian Armed Forces...</td>\n",
       "      <td>https://www.financialexpress.com/defence/atman...</td>\n",
       "    </tr>\n",
       "    <tr>\n",
       "      <th>9</th>\n",
       "      <td>JEE Advanced Result 2022: All-India topper RK ...</td>\n",
       "      <td>The Indian Express</td>\n",
       "      <td>3 hours ago</td>\n",
       "      <td>2022-09-11 18:30:03.448595</td>\n",
       "      <td>In July, Shishir, a student of Narayana eTechn...</td>\n",
       "      <td>https://indianexpress.com/article/education/ii...</td>\n",
       "    </tr>\n",
       "  </tbody>\n",
       "</table>\n",
       "</div>"
      ],
      "text/plain": [
       "                                               title                  media  \\\n",
       "0  Sri Lanka vs Pakistan Live Score Asia Cup Fina...       Cricket Addictor   \n",
       "1  Queen Elizabeth II Death Live Updates: Queen E...     The Indian Express   \n",
       "2  IGE India buys 2 flats in Oberoi Realty’s Worl...                   Mint   \n",
       "3  Indian Railways revenue up 38% to Rs 95,486.58...         Times of India   \n",
       "4  Tata confirms Tiago EV to launch in India soon...              91Mobiles   \n",
       "5  Draped in a sari, British-Indian artist’s scul...               ThePrint   \n",
       "6  'I want more from him. I want to see his pace ...        Hindustan Times   \n",
       "7  KCR eyes electoral pie beyond Telangana, to la...         Times of India   \n",
       "8  Atmanirbhar Bharat: Indian weapons set to rule...  The Financial Express   \n",
       "9  JEE Advanced Result 2022: All-India topper RK ...     The Indian Express   \n",
       "\n",
       "              date                   datetime  \\\n",
       "0       4 mins ago                        NaT   \n",
       "1  LIVE15 mins ago                        NaT   \n",
       "2       1 hour ago 2022-09-11 20:30:03.307960   \n",
       "3       1 hour ago 2022-09-11 20:30:03.323585   \n",
       "4      2 hours ago 2022-09-11 19:30:03.354841   \n",
       "5      2 hours ago 2022-09-11 19:30:03.370466   \n",
       "6      2 hours ago 2022-09-11 19:30:03.386093   \n",
       "7      3 hours ago 2022-09-11 18:30:03.401716   \n",
       "8      3 hours ago 2022-09-11 18:30:03.432968   \n",
       "9      3 hours ago 2022-09-11 18:30:03.448595   \n",
       "\n",
       "                                                desc  \\\n",
       "0  Sri Lanka vs Pakistan Live Score Asia Cup Fina...   \n",
       "1  Queen Elizabeth II Death Live Updates: India h...   \n",
       "2  BENGALURU : IGE (India) Pvt Ltd has bought two...   \n",
       "3  India News: NEW DELHI: The overall revenue of ...   \n",
       "4  Tata Motors confirmed the Tata Tiago EV launch...   \n",
       "5  Titled 'Ancestor', the bronze sculpture by Bha...   \n",
       "6  The former Australia fast bowler gave his verd...   \n",
       "7  India News: Telangana Rashtra Samithi chief mi...   \n",
       "8  Defence production for the Indian Armed Forces...   \n",
       "9  In July, Shishir, a student of Narayana eTechn...   \n",
       "\n",
       "                                                link  \n",
       "0  https://cricketaddictor.com/asia-cup-2022/sri-...  \n",
       "1  https://indianexpress.com/article/world/uk-que...  \n",
       "2  https://www.livemint.com/companies/news/ige-in...  \n",
       "3  https://timesofindia.indiatimes.com/india/indi...  \n",
       "4  https://www.91mobiles.com/hub/tata-tiago-ev-in...  \n",
       "5  https://theprint.in/india/draped-in-a-sari-bri...  \n",
       "6  https://www.hindustantimes.com/cricket/i-want-...  \n",
       "7  https://timesofindia.indiatimes.com/india/will...  \n",
       "8  https://www.financialexpress.com/defence/atman...  \n",
       "9  https://indianexpress.com/article/education/ii...  "
      ]
     },
     "execution_count": 10,
     "metadata": {},
     "output_type": "execute_result"
    }
   ],
   "source": [
    "data"
   ]
  },
  {
   "cell_type": "markdown",
   "id": "41861350",
   "metadata": {},
   "source": [
    "## Data Shape"
   ]
  },
  {
   "cell_type": "code",
   "execution_count": 11,
   "id": "d2c1e1c5",
   "metadata": {},
   "outputs": [
    {
     "data": {
      "text/plain": [
       "(10, 6)"
      ]
     },
     "execution_count": 11,
     "metadata": {},
     "output_type": "execute_result"
    }
   ],
   "source": [
    "data.shape"
   ]
  },
  {
   "cell_type": "markdown",
   "id": "cbe2c3d2",
   "metadata": {},
   "source": [
    "## Complete Link Of The News Article"
   ]
  },
  {
   "cell_type": "markdown",
   "id": "284a14f7",
   "metadata": {},
   "source": [
    "### Using For Loop"
   ]
  },
  {
   "cell_type": "code",
   "execution_count": 12,
   "id": "01793334",
   "metadata": {},
   "outputs": [
    {
     "name": "stdout",
     "output_type": "stream",
     "text": [
      "Title :  Sri Lanka vs Pakistan Live Score Asia Cup Final 2022 Live Telecast Channel In India, Live Streaming In India- SL vs ...\n",
      "News :  Sri Lanka vs Pakistan Live Score Asia Cup Final 2022 Live Telecast Channel \n",
      "In India, Live Streaming In India- SL vs PAK Live Score, Asia Cup Final \n",
      "Live...\n",
      "Read Full News :  https://cricketaddictor.com/asia-cup-2022/sri-lanka-vs-pakistan-live-score-asia-cup-final-2022-live-telecast-channel-in-india-live-streaming-in-india-sl-vs-pak-live-score-asia-cup-final-live-score-2022/\n",
      "Title :  Queen Elizabeth II Death Live Updates: Queen Elizabeth’s coffin arrives in Edinburgh as mourners line streets\n",
      "News :  Queen Elizabeth II Death Live Updates: India has declared one day of state \n",
      "mourning on Sunday as a mark of respect to Britain's Queen Elizabeth-II.\n",
      "Read Full News :  https://indianexpress.com/article/world/uk-queen-elizabeth-death-funeral-live-updates-king-charles-india-state-mourning-8143285/\n",
      "Title :  IGE India buys 2 flats in Oberoi Realty’s Worli project for ₹151 crore | Mint\n",
      "News :  BENGALURU : IGE (India) Pvt Ltd has bought two apartments in real estate \n",
      "developer Oberoi Realty Ltd's ultra-luxurious 'Three Sixty West' project, \n",
      "in south...\n",
      "Read Full News :  https://www.livemint.com/companies/news/ige-india-buys-2-flats-in-oberoi-realty-s-worli-project-for-rs-151-crore-11662905486852.html\n",
      "Title :  Indian Railways revenue up 38% to Rs 95,486.58 crore till August-end\n",
      "News :  India News: NEW DELHI: The overall revenue of Indian Railways at the end of \n",
      "August 2022 was Rs 95486.\n",
      "Read Full News :  https://timesofindia.indiatimes.com/india/indian-railways-revenue-up-38-to-rs-95486-58-crore-till-august-end/articleshow/94135859.cms\n",
      "Title :  Tata confirms Tiago EV to launch in India soon, tipped to be one of India’s cheapest EVs\n",
      "News :  Tata Motors confirmed the Tata Tiago EV launch in India on the occasion of \n",
      "World EV Day 2022. It could be one of the most affordable electric cars in \n",
      "India.\n",
      "Read Full News :  https://www.91mobiles.com/hub/tata-tiago-ev-india-launch-soon-tipped-cheapest-evs/\n",
      "Title :  Draped in a sari, British-Indian artist’s sculpture in NY’s Central Park celebrates the ‘universal mother’\n",
      "News :  Titled 'Ancestor', the bronze sculpture by Bharti Kher embodies \n",
      "'multiculturalism, pluralism, interconnectedness'. It will ultimately be \n",
      "housed in Delhi's...\n",
      "Read Full News :  https://theprint.in/india/draped-in-a-sari-british-indian-artists-sculpture-in-nys-central-park-celebrates-the-universal-mother/1124700/\n",
      "Title :  'I want more from him. I want to see his pace over 140': Brett Lee on India star\n",
      "News :  The former Australia fast bowler gave his verdict on the India star, \n",
      "insisting that he would like to see “more” from him in the upcoming T20 \n",
      "World Cup.\n",
      "Read Full News :  https://www.hindustantimes.com/cricket/i-want-more-from-bhuvneshwar-kumar-i-want-to-see-his-pace-over-140-brett-lee-makes-huge-leader-of-wolf-pack-claim-on-india-star-101662899547607.html\n",
      "Title :  KCR eyes electoral pie beyond Telangana, to launch national party\n",
      "News :  India News: Telangana Rashtra Samithi chief minister K Chandrashekar Rao on \n",
      "Sunday confirmed that he would soon launch a national party.\n",
      "Read Full News :  https://timesofindia.indiatimes.com/india/will-float-national-party-soon-kcr/articleshow/94134742.cms\n",
      "Title :  Atmanirbhar Bharat: Indian weapons set to rule the roost\n",
      "News :  Defence production for the Indian Armed Forces under the 'Make in India' \n",
      "initiative provides state-of-the-art equipment, which matches the world's \n",
      "best in...\n",
      "Read Full News :  https://www.financialexpress.com/defence/atmanirbhar-bharat-indian-weapons-set-to-rule-the-roost/2662527/\n",
      "Title :  JEE Advanced Result 2022: All-India topper RK Shishir also secured first rank in KCET, AIR 56 in JEE Mains\n",
      "News :  In July, Shishir, a student of Narayana eTechno School Vidyaranyapura, had \n",
      "not only topped Karnataka Common Entrance Test (KCET) 2022 in the pharma \n",
      "category...\n",
      "Read Full News :  https://indianexpress.com/article/education/iit-jee-advanced-2022-result-kcet-pharmacy-topper-rk-shishir-also-secures-air-1-in-iit-entrance-test-8143570/\n"
     ]
    }
   ],
   "source": [
    "for i in result:\n",
    "    print(\"Title : \", i[\"title\"])\n",
    "    print(\"News : \", i[\"desc\"])\n",
    "    print(\"Read Full News : \", i[\"link\"])"
   ]
  },
  {
   "cell_type": "code",
   "execution_count": null,
   "id": "1185fa7f",
   "metadata": {},
   "outputs": [],
   "source": []
  }
 ],
 "metadata": {
  "kernelspec": {
   "display_name": "Python 3 (ipykernel)",
   "language": "python",
   "name": "python3"
  },
  "language_info": {
   "codemirror_mode": {
    "name": "ipython",
    "version": 3
   },
   "file_extension": ".py",
   "mimetype": "text/x-python",
   "name": "python",
   "nbconvert_exporter": "python",
   "pygments_lexer": "ipython3",
   "version": "3.9.12"
  }
 },
 "nbformat": 4,
 "nbformat_minor": 5
}
